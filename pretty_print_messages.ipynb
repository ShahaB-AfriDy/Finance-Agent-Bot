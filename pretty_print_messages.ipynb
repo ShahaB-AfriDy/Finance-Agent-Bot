{
 "cells": [
  {
   "cell_type": "code",
   "execution_count": 1,
   "id": "46c5b89b",
   "metadata": {},
   "outputs": [],
   "source": [
    "from langchain_core.messages import HumanMessage, AIMessage,SystemMessage"
   ]
  },
  {
   "cell_type": "code",
   "execution_count": 2,
   "id": "7c5ccac0",
   "metadata": {},
   "outputs": [
    {
     "name": "stdout",
     "output_type": "stream",
     "text": [
      "==================================\u001b[1m Ai Message \u001b[0m==================================\n",
      "\n",
      "System message prompt\n",
      "================================\u001b[1m Human Message \u001b[0m=================================\n",
      "\n",
      "human message asking about weather\n",
      "==================================\u001b[1m Ai Message \u001b[0m==================================\n",
      "\n",
      "Ai message response The weather is sunny today.\n"
     ]
    }
   ],
   "source": [
    "system_msg = AIMessage(content=\"System message prompt\")\n",
    "human_msg = HumanMessage(content=\"human message asking about weather\")\n",
    "ai_msg = AIMessage(content=\"Ai message response The weather is sunny today.\")\n",
    "\n",
    "system_msg.pretty_print()\n",
    "human_msg.pretty_print()\n",
    "ai_msg.pretty_print()"
   ]
  },
  {
   "cell_type": "code",
   "execution_count": 3,
   "id": "86d29f78",
   "metadata": {},
   "outputs": [
    {
     "name": "stdout",
     "output_type": "stream",
     "text": [
      "==================================\u001b[1m Ai Message \u001b[0m==================================\n",
      "\n",
      "System message prompt\n",
      "================================\u001b[1m Human Message \u001b[0m=================================\n",
      "\n",
      "human message asking about weather\n",
      "==================================\u001b[1m Ai Message \u001b[0m==================================\n",
      "\n",
      "Ai message response The weather is sunny today.\n"
     ]
    }
   ],
   "source": [
    "Messages = [system_msg,human_msg,ai_msg]\n",
    "\n",
    "for message in Messages:\n",
    "    message.pretty_print()"
   ]
  }
 ],
 "metadata": {
  "kernelspec": {
   "display_name": "Global2",
   "language": "python",
   "name": "python3"
  },
  "language_info": {
   "codemirror_mode": {
    "name": "ipython",
    "version": 3
   },
   "file_extension": ".py",
   "mimetype": "text/x-python",
   "name": "python",
   "nbconvert_exporter": "python",
   "pygments_lexer": "ipython3",
   "version": "3.12.5"
  }
 },
 "nbformat": 4,
 "nbformat_minor": 5
}
