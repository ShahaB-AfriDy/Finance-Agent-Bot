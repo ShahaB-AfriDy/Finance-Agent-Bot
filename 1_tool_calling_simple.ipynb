{
 "cells": [
  {
   "cell_type": "code",
   "execution_count": 1,
   "id": "1e394201",
   "metadata": {},
   "outputs": [],
   "source": [
    "from typing import Annotated\n",
    "from pydantic import BaseModel, Field\n",
    "from langgraph.graph import StateGraph, START, END"
   ]
  },
  {
   "cell_type": "code",
   "execution_count": 2,
   "id": "15cbca8f",
   "metadata": {},
   "outputs": [],
   "source": [
    "class AgentState(BaseModel):\n",
    "    a: Annotated[int,Field(...,description=\"integer a variable\")]\n",
    "    b: Annotated[int,Field(...,description=\"integer b variable\")]\n",
    "    add_result:Annotated[int,Field(default=0,description=\"addition result variable\")] \n",
    "    final_result:Annotated[int,Field(default=0,description=\"final result variable\")] "
   ]
  },
  {
   "cell_type": "code",
   "execution_count": 8,
   "id": "021ff400",
   "metadata": {},
   "outputs": [],
   "source": [
    "def add_node(state: AgentState) -> AgentState:\n",
    "    state.add_result = state.a + state.b\n",
    "    print(f\"🔹 Add: {state.a} + {state.b} = {state.add_result}\")\n",
    "    return state\n",
    "\n",
    "def multiply_node(state: AgentState) -> AgentState:\n",
    "    state.final_result = state.add_result * 2\n",
    "    print(f\"🔸 Multiply: {state.add_result} * 2 = {state.final_result}\")\n",
    "    return state\n",
    "\n",
    "graph = StateGraph(AgentState)\n",
    "graph.add_node(\"add\", add_node)\n",
    "graph.add_node(\"multiply\", multiply_node)\n",
    "graph.add_edge(START, \"add\")\n",
    "graph.add_edge(\"add\", \"multiply\")\n",
    "graph.add_edge(\"multiply\", END)\n",
    "\n",
    "app = graph.compile()"
   ]
  },
  {
   "cell_type": "code",
   "execution_count": 9,
   "id": "2d59f731",
   "metadata": {},
   "outputs": [
    {
     "name": "stdout",
     "output_type": "stream",
     "text": [
      "🔹 Add: 5 + 3 = 8\n",
      "🔸 Multiply: 8 * 2 = 16\n",
      "\n",
      "✅ Final State: {'a': 5, 'b': 3, 'add_result': 8, 'final_result': 16}\n"
     ]
    }
   ],
   "source": [
    "final_state = app.invoke({\"a\": 5, \"b\": 3})\n",
    "print(\"\\n✅ Final State:\", final_state)"
   ]
  },
  {
   "cell_type": "code",
   "execution_count": 5,
   "id": "d12251c8",
   "metadata": {},
   "outputs": [
    {
     "data": {
      "image/png": "[encoded data removed]",
      "text/plain": [
       "<IPython.core.display.Image object>"
      ]
     },
     "metadata": {},
     "output_type": "display_data"
    }
   ],
   "source": [
    "from IPython.display import display,Image\n",
    "display(Image(app.get_graph().draw_mermaid_png()))"
   ]
  }
 ],
 "metadata": {
  "kernelspec": {
   "display_name": "Global2",
   "language": "python",
   "name": "python3"
  },
  "language_info": {
   "codemirror_mode": {
    "name": "ipython",
    "version": 3
   },
   "file_extension": ".py",
   "mimetype": "text/x-python",
   "name": "python",
   "nbconvert_exporter": "python",
   "pygments_lexer": "ipython3",
   "version": "3.12.5"
  }
 },
 "nbformat": 4,
 "nbformat_minor": 5
}
