{
 "cells": [
  {
   "cell_type": "code",
   "execution_count": 2,
   "id": "087527e5",
   "metadata": {},
   "outputs": [],
   "source": [
    "import sqlite3\n",
    "\n",
    "connection = sqlite3.connect('movies.db')\n",
    "cursor = connection.cursor()"
   ]
  },
  {
   "cell_type": "code",
   "execution_count": 3,
   "id": "5fb799c9",
   "metadata": {},
   "outputs": [
    {
     "name": "stdout",
     "output_type": "stream",
     "text": [
      "Tables in the database:\n",
      "actors\n",
      "movies\n"
     ]
    }
   ],
   "source": [
    "import sqlite3\n",
    "\n",
    "# Connect to the database\n",
    "connection = sqlite3.connect('movies.db')\n",
    "cursor = connection.cursor()\n",
    "\n",
    "# Query to get all table names\n",
    "cursor.execute(\"SELECT name FROM sqlite_master WHERE type='table';\")\n",
    "\n",
    "# Fetch and print all table names\n",
    "tables = cursor.fetchall()\n",
    "print(\"Tables in the database:\")\n",
    "for table in tables:\n",
    "    print(table[0])\n",
    "\n",
    "# Close the connection\n",
    "connection.close()\n"
   ]
  },
  {
   "cell_type": "code",
   "execution_count": null,
   "id": "4a158ce6",
   "metadata": {},
   "outputs": [],
   "source": []
  },
  {
   "cell_type": "code",
   "execution_count": 8,
   "id": "ca0e4829",
   "metadata": {},
   "outputs": [
    {
     "name": "stdout",
     "output_type": "stream",
     "text": [
      "<class 'pandas.core.frame.DataFrame'>\n",
      "RangeIndex: 400 entries, 0 to 399\n",
      "Data columns (total 9 columns):\n",
      " #   Column              Non-Null Count  Dtype  \n",
      "---  ------              --------------  -----  \n",
      " 0   Title               400 non-null    object \n",
      " 1   IMDb Rating         400 non-null    float64\n",
      " 2   Year                400 non-null    int64  \n",
      " 3   Certificates        400 non-null    object \n",
      " 4   Genre               400 non-null    object \n",
      " 5   Director            400 non-null    object \n",
      " 6   Star Cast           400 non-null    object \n",
      " 7   MetaScore           400 non-null    float64\n",
      " 8   Duration (minutes)  400 non-null    float64\n",
      "dtypes: float64(3), int64(1), object(5)\n",
      "memory usage: 28.3+ KB\n"
     ]
    }
   ],
   "source": [
    "import pandas as pd\n",
    "\n",
    "df = pd.read_csv(\"IMDb_Dataset.csv\")\n",
    "df.info()"
   ]
  },
  {
   "cell_type": "code",
   "execution_count": 12,
   "id": "142165ea",
   "metadata": {},
   "outputs": [
    {
     "name": "stdout",
     "output_type": "stream",
     "text": [
      "SQLite database 'imdb_data.db' created with table 'movies'\n"
     ]
    }
   ],
   "source": [
    "import pandas as pd\n",
    "import sqlite3\n",
    "\n",
    "# Step 1: Load CSV into DataFrame\n",
    "df = pd.read_csv(\"IMDb_Dataset.csv\")\n",
    "\n",
    "# Step 2: Connect to (or create) SQLite database file\n",
    "connection = sqlite3.connect(\"imdb_data.db\")\n",
    "\n",
    "# Step 3: Write the DataFrame to a table in the database\n",
    "df.to_sql(\"movies\", connection, if_exists=\"replace\", index=False)\n",
    "\n",
    "# Step 4: Close the connection\n",
    "connection.close()\n",
    "\n",
    "print(\"SQLite database 'imdb_data.db' created with table 'movies'\")\n"
   ]
  },
  {
   "cell_type": "code",
   "execution_count": 15,
   "id": "5f9dfd37",
   "metadata": {},
   "outputs": [
    {
     "name": "stdout",
     "output_type": "stream",
     "text": [
      "📋 Tables in the database:\n",
      "- movies\n",
      "\n",
      "🔢 Total rows per table:\n",
      "Table 'movies': 400 rows\n"
     ]
    }
   ],
   "source": [
    "import sqlite3\n",
    "\n",
    "# Connect to the database\n",
    "connection = sqlite3.connect(\"imdb_data.db\")\n",
    "cursor = connection.cursor()\n",
    "\n",
    "# Step 1: List all tables\n",
    "cursor.execute(\"SELECT name FROM sqlite_master WHERE type='table';\")\n",
    "tables = cursor.fetchall()\n",
    "\n",
    "print(\"📋 Tables in the database:\")\n",
    "for table in tables:\n",
    "    table_name = table[0]\n",
    "    print(f\"- {table_name}\")\n",
    "\n",
    "# Step 2: Show total rows for each table\n",
    "print(\"\\n🔢 Total rows per table:\")\n",
    "for table in tables:\n",
    "    table_name = table[0]\n",
    "    cursor.execute(f\"SELECT COUNT(*) FROM {table_name};\")\n",
    "    count = cursor.fetchone()[0]\n",
    "    print(f\"Table '{table_name}': {count} rows\")\n",
    "\n",
    "# Close connection\n",
    "connection.close()\n"
   ]
  },
  {
   "cell_type": "code",
   "execution_count": 17,
   "id": "906db82c",
   "metadata": {},
   "outputs": [
    {
     "name": "stdout",
     "output_type": "stream",
     "text": [
      "Title | IMDb Rating | Year | Certificates | Genre | Director | Star Cast | MetaScore | Duration (minutes)\n",
      "--------------------------------------------------------------------------------\n",
      "Gladiator | 8.5 | 2000 | R | Action | Ridley Scott | David FranzoniJohn LoganWilliam Nicholson | 67.0 | 155.0\n",
      "Mission: Impossible - Dead Reckoning Part One | 7.7 | 2023 | PG-13 | Action | Christopher McQuarrie | Tom CruiseHayley AtwellVing Rhames | 81.0 | 163.0\n",
      "Rebel Moon - Part Two: The Scargiver | 5.2 | 2024 | PG-13 | Action | Zack Snyder | Zack SnyderKurt JohnstadShay Hatten | 35.0 | 122.0\n",
      "Inglourious Basterds | 8.4 | 2009 | R | Adventure | Quentin Tarantino | Brad PittDiane KrugerEli Roth | 69.0 | 153.0\n",
      "Borderlands | 7.1 | 2024 | R | Action | Eli Roth | Eli RothJoe Crombie | 66.9 | 116.3\n"
     ]
    }
   ],
   "source": [
    "import sqlite3\n",
    "\n",
    "# Connect to the database\n",
    "connection = sqlite3.connect(\"imdb_data.db\")\n",
    "cursor = connection.cursor()\n",
    "\n",
    "# Execute query to fetch first 5 rows\n",
    "cursor.execute(\"SELECT * FROM movies LIMIT 5;\")\n",
    "rows = cursor.fetchall()\n",
    "\n",
    "# Get column names (optional but useful)\n",
    "column_names = [description[0] for description in cursor.description]\n",
    "\n",
    "# Print header\n",
    "print(\" | \".join(column_names))\n",
    "print(\"-\" * 80)\n",
    "\n",
    "# Print each row\n",
    "for row in rows:\n",
    "    print(\" | \".join(str(cell) for cell in row))\n",
    "\n",
    "# Close the connection\n",
    "connection.close()\n"
   ]
  }
 ],
 "metadata": {
  "kernelspec": {
   "display_name": "Global2",
   "language": "python",
   "name": "python3"
  },
  "language_info": {
   "codemirror_mode": {
    "name": "ipython",
    "version": 3
   },
   "file_extension": ".py",
   "mimetype": "text/x-python",
   "name": "python",
   "nbconvert_exporter": "python",
   "pygments_lexer": "ipython3",
   "version": "3.12.5"
  }
 },
 "nbformat": 4,
 "nbformat_minor": 5
}
