{
 "cells": [
  {
   "cell_type": "code",
   "execution_count": 1,
   "id": "f66f08c3",
   "metadata": {},
   "outputs": [],
   "source": [
    "from langchain_core.messages import BaseMessage,HumanMessage,SystemMessage\n",
    "from langgraph.graph import StateGraph\n",
    "from langgraph.prebuilt import ToolNode,tools_condition\n",
    "from langgraph.graph.message import add_messages\n",
    "from typing import Annotated, Sequence\n",
    "from langchain.tools import tool\n",
    "\n",
    "from langchain_google_genai import ChatGoogleGenerativeAI\n",
    "\n",
    "from typing import Annotated,Union\n",
    "from pydantic import BaseModel,Field"
   ]
  },
  {
   "cell_type": "code",
   "execution_count": 2,
   "id": "526b33e4",
   "metadata": {},
   "outputs": [],
   "source": [
    "from langchain.utilities import SQLDatabase\n",
    "\n",
    "# Point to your local movies.db\n",
    "db = SQLDatabase.from_uri(\"sqlite:///imdb_data.db\")\n"
   ]
  },
  {
   "cell_type": "code",
   "execution_count": 3,
   "id": "ba9186dc",
   "metadata": {},
   "outputs": [
    {
     "data": {
      "text/plain": [
       "True"
      ]
     },
     "execution_count": 3,
     "metadata": {},
     "output_type": "execute_result"
    }
   ],
   "source": [
    "import os\n",
    "from dotenv import load_dotenv\n",
    "load_dotenv()"
   ]
  },
  {
   "cell_type": "code",
   "execution_count": 4,
   "id": "41c103d4",
   "metadata": {},
   "outputs": [],
   "source": [
    "class AgentState(BaseModel):\n",
    "    messages: Annotated[Sequence[BaseMessage], add_messages]"
   ]
  },
  {
   "cell_type": "code",
   "execution_count": 5,
   "id": "52248374",
   "metadata": {},
   "outputs": [],
   "source": [
    "llm = ChatGoogleGenerativeAI(\n",
    "    model=\"gemini-2.5-flash\",\n",
    "    google_api_key=os.getenv(\"GOOGLE_API_KEY\"))"
   ]
  },
  {
   "cell_type": "markdown",
   "id": "809de3a9",
   "metadata": {},
   "source": [
    "### Tools"
   ]
  },
  {
   "cell_type": "code",
   "execution_count": 6,
   "id": "4c85ecb7",
   "metadata": {},
   "outputs": [],
   "source": [
    "from langchain.agents.agent_toolkits import SQLDatabaseToolkit\n",
    "\n",
    "toolkit = SQLDatabaseToolkit(db=db, llm=llm)\n",
    "db_tools = toolkit.get_tools()"
   ]
  },
  {
   "cell_type": "code",
   "execution_count": 7,
   "id": "8c7bb54b",
   "metadata": {},
   "outputs": [],
   "source": [
    "llm_with_tools = llm.bind_tools(db_tools)"
   ]
  },
  {
   "cell_type": "code",
   "execution_count": 14,
   "id": "a6e307a8",
   "metadata": {},
   "outputs": [
    {
     "name": "stderr",
     "output_type": "stream",
     "text": [
      "d:\\Programming\\Python in Sublime\\Global_Environment_2\\Global2\\Lib\\site-packages\\langsmith\\client.py:272: LangSmithMissingAPIKeyWarning: API key must be provided when using hosted LangSmith API\n",
      "  warnings.warn(\n"
     ]
    }
   ],
   "source": [
    "from langchain import hub\n",
    "prompt_template = hub.pull(\"langchain-ai/sql-agent-system-prompt\")\n",
    "system_message = prompt_template.format(dialect=\"SQLite\", top_k=5)\n",
    "\n",
    "## can be use for builtin prompt for improves accuracy of SQL query generation."
   ]
  },
  {
   "cell_type": "code",
   "execution_count": null,
   "id": "a43c5eda",
   "metadata": {},
   "outputs": [],
   "source": []
  },
  {
   "cell_type": "code",
   "execution_count": 15,
   "id": "decfba8e",
   "metadata": {},
   "outputs": [],
   "source": [
    "def agent_node(state: AgentState) -> AgentState:\n",
    "    # system_prompt = SystemMessage(content=\n",
    "    #     \"You are my AI assistant, please answer my query to the best of your ability.\"\n",
    "    # )\n",
    "    system_prompt = SystemMessage(content=system_message)\n",
    "    response = llm_with_tools.invoke([system_prompt]+state.messages)\n",
    "    return {\"messages\": [response]}"
   ]
  },
  {
   "cell_type": "code",
   "execution_count": 16,
   "id": "aadc47fb",
   "metadata": {},
   "outputs": [],
   "source": [
    "graph = StateGraph(AgentState)\n",
    "\n",
    "graph.add_node(node=\"db_agent\",action=agent_node)\n",
    "graph.add_node(node=\"tools\",action=ToolNode(tools=db_tools))\n",
    "\n",
    "graph.set_entry_point(key=\"db_agent\")\n",
    "\n",
    "graph.add_conditional_edges(source=\"db_agent\",path=tools_condition)\n",
    "\n",
    "graph.add_edge(start_key=\"tools\",end_key=\"db_agent\")\n",
    "graph.set_finish_point(key=\"db_agent\")\n",
    "\n",
    "\n",
    "app = graph.compile()"
   ]
  },
  {
   "cell_type": "code",
   "execution_count": null,
   "id": "8c99d333",
   "metadata": {},
   "outputs": [
    {
     "name": "stdout",
     "output_type": "stream",
     "text": [
      "================================\u001b[1m Human Message \u001b[0m=================================\n",
      "\n",
      "show me top 5 horror films base on rating in table name 'movies'?\n",
      "        and Tell me a joke about late night sleeping\n",
      "==================================\u001b[1m Ai Message \u001b[0m==================================\n",
      "Tool Calls:\n",
      "  sql_db_list_tables (05477b2e-068f-43d1-afe4-13da1da70c3b)\n",
      " Call ID: 05477b2e-068f-43d1-afe4-13da1da70c3b\n",
      "  Args:\n",
      "=================================\u001b[1m Tool Message \u001b[0m=================================\n",
      "Name: sql_db_list_tables\n",
      "\n",
      "movies\n",
      "==================================\u001b[1m Ai Message \u001b[0m==================================\n",
      "Tool Calls:\n",
      "  sql_db_schema (e7dbc871-2eaf-4fd2-97b5-bf9267fac0d0)\n",
      " Call ID: e7dbc871-2eaf-4fd2-97b5-bf9267fac0d0\n",
      "  Args:\n",
      "    table_names: movies\n",
      "=================================\u001b[1m Tool Message \u001b[0m=================================\n",
      "Name: sql_db_schema\n",
      "\n",
      "\n",
      "CREATE TABLE movies (\n",
      "\t\"Title\" TEXT, \n",
      "\t\"IMDb Rating\" REAL, \n",
      "\t\"Year\" INTEGER, \n",
      "\t\"Certificates\" TEXT, \n",
      "\t\"Genre\" TEXT, \n",
      "\t\"Director\" TEXT, \n",
      "\t\"Star Cast\" TEXT, \n",
      "\t\"MetaScore\" REAL, \n",
      "\t\"Duration (minutes)\" REAL\n",
      ")\n",
      "\n",
      "/*\n",
      "3 rows from movies table:\n",
      "Title\tIMDb Rating\tYear\tCertificates\tGenre\tDirector\tStar Cast\tMetaScore\tDuration (minutes)\n",
      "Gladiator\t8.5\t2000\tR\tAction\tRidley Scott\tDavid FranzoniJohn LoganWilliam Nicholson\t67.0\t155.0\n",
      "Mission: Impossible - Dead Reckoning Part One\t7.7\t2023\tPG-13\tAction\tChristopher McQuarrie\tTom CruiseHayley AtwellVing Rhames\t81.0\t163.0\n",
      "Rebel Moon - Part Two: The Scargiver\t5.2\t2024\tPG-13\tAction\tZack Snyder\tZack SnyderKurt JohnstadShay Hatten\t35.0\t122.0\n",
      "*/\n",
      "==================================\u001b[1m Ai Message \u001b[0m==================================\n",
      "Tool Calls:\n",
      "  sql_db_query_checker (493223a4-b773-4856-868c-4a2291d336ef)\n",
      " Call ID: 493223a4-b773-4856-868c-4a2291d336ef\n",
      "  Args:\n",
      "    query: SELECT Title, \"IMDb Rating\", Genre FROM movies WHERE Genre = 'Horror' ORDER BY \"IMDb Rating\" DESC LIMIT 5\n",
      "=================================\u001b[1m Tool Message \u001b[0m=================================\n",
      "Name: sql_db_query_checker\n",
      "\n",
      "```sql\n",
      "SELECT Title, \"IMDb Rating\", Genre FROM movies WHERE Genre = 'Horror' ORDER BY \"IMDb Rating\" DESC LIMIT 5\n",
      "```\n",
      "==================================\u001b[1m Ai Message \u001b[0m==================================\n",
      "Tool Calls:\n",
      "  sql_db_query (294bfeff-ad9f-48da-85e1-8380377e65e1)\n",
      " Call ID: 294bfeff-ad9f-48da-85e1-8380377e65e1\n",
      "  Args:\n",
      "    query: SELECT Title, \"IMDb Rating\", Genre FROM movies WHERE Genre = 'Horror' ORDER BY \"IMDb Rating\" DESC LIMIT 5\n",
      "=================================\u001b[1m Tool Message \u001b[0m=================================\n",
      "Name: sql_db_query\n",
      "\n",
      "[('Alien', 8.5, 'Horror'), ('Alien', 8.5, 'Horror'), ('Split', 7.3, 'Horror'), ('Talk to Me', 7.1, 'Horror'), ('Alien: Romulus', 7.1, 'Horror')]\n",
      "==================================\u001b[1m Ai Message \u001b[0m==================================\n",
      "\n",
      "Here are the top 5 horror films based on their IMDb rating:\n",
      "\n",
      "1.  Alien (IMDb Rating: 8.5)\n",
      "2.  Alien (IMDb Rating: 8.5)\n",
      "3.  Split (IMDb Rating: 7.3)\n",
      "4.  Talk to Me (IMDb Rating: 7.1)\n",
      "5.  Alien: Romulus (IMDb Rating: 7.1)\n",
      "\n",
      "And here's a joke for you:\n",
      "\n",
      "Why did the insomniac break up with the clock?\n",
      "Because he couldn't stand seeing the hands go round and round all night!\n"
     ]
    }
   ],
   "source": [
    "inputs = {\n",
    "    \"messages\": \n",
    "    [HumanMessage(\n",
    "        content=\"\"\"show me top 5 horror films base on rating in table name 'movies'?\n",
    "        and Tell me a joke about late night sleeping\"\"\")]\n",
    "}\n",
    "\n",
    "# for step in app.stream(inputs, stream_mode=\"values\"):\n",
    "#     step[\"messages\"][-1].pretty_print()\n"
   ]
  },
  {
   "cell_type": "code",
   "execution_count": 22,
   "id": "64453c9c",
   "metadata": {},
   "outputs": [
    {
     "data": {
      "text/plain": [
       "['Here are the top 5 horror films based on their IMDb rating:',\n",
       " '',\n",
       " '*   Alien (IMDb Rating: 8.5)',\n",
       " '*   Alien (IMDb Rating: 8.5)',\n",
       " '*   Split (IMDb Rating: 7.3)',\n",
       " '*   Talk to Me (IMDb Rating: 7.1)',\n",
       " '*   Alien: Romulus (IMDb Rating: 7.1)',\n",
       " '',\n",
       " \"And here's a joke for you:\",\n",
       " '',\n",
       " 'Why did the bed break up with the pillow?',\n",
       " 'Because it felt like it was always getting a late-night call!']"
      ]
     },
     "execution_count": 22,
     "metadata": {},
     "output_type": "execute_result"
    }
   ],
   "source": [
    "## print the only last message of the llm\n",
    "result = app.invoke(inputs)\n",
    "result[\"messages\"][-1].content.split(\"\\n\")"
   ]
  },
  {
   "cell_type": "code",
   "execution_count": 13,
   "id": "98e7919d",
   "metadata": {},
   "outputs": [
    {
     "data": {
      "image/png": "[encoded data removed]",
      "text/plain": [
       "<IPython.core.display.Image object>"
      ]
     },
     "metadata": {},
     "output_type": "display_data"
    }
   ],
   "source": [
    "from IPython.display import display,Image\n",
    "display(Image(app.get_graph().draw_mermaid_png()))"
   ]
  }
 ],
 "metadata": {
  "kernelspec": {
   "display_name": "Global2",
   "language": "python",
   "name": "python3"
  },
  "language_info": {
   "codemirror_mode": {
    "name": "ipython",
    "version": 3
   },
   "file_extension": ".py",
   "mimetype": "text/x-python",
   "name": "python",
   "nbconvert_exporter": "python",
   "pygments_lexer": "ipython3",
   "version": "3.12.5"
  }
 },
 "nbformat": 4,
 "nbformat_minor": 5
}
