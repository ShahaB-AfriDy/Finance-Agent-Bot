{
 "cells": [
  {
   "cell_type": "code",
   "execution_count": 96,
   "id": "f66f08c3",
   "metadata": {},
   "outputs": [],
   "source": [
    "from langchain_core.messages import BaseMessage,HumanMessage,SystemMessage\n",
    "from langgraph.graph import StateGraph\n",
    "from langgraph.prebuilt import ToolNode\n",
    "from langgraph.graph.message import add_messages\n",
    "from typing import Annotated, Sequence\n",
    "from langchain.tools import tool\n",
    "\n",
    "from langchain_google_genai import ChatGoogleGenerativeAI\n",
    "\n",
    "from typing import Annotated,Union\n",
    "from pydantic import BaseModel,Field"
   ]
  },
  {
   "cell_type": "code",
   "execution_count": 97,
   "id": "ba9186dc",
   "metadata": {},
   "outputs": [
    {
     "data": {
      "text/plain": [
       "True"
      ]
     },
     "execution_count": 97,
     "metadata": {},
     "output_type": "execute_result"
    }
   ],
   "source": [
    "import os\n",
    "from dotenv import load_dotenv\n",
    "load_dotenv()"
   ]
  },
  {
   "cell_type": "code",
   "execution_count": 98,
   "id": "41c103d4",
   "metadata": {},
   "outputs": [],
   "source": [
    "class AgentState(BaseModel):\n",
    "    messages: Annotated[Sequence[BaseMessage], add_messages]"
   ]
  },
  {
   "cell_type": "markdown",
   "id": "809de3a9",
   "metadata": {},
   "source": [
    "### Tools"
   ]
  },
  {
   "cell_type": "code",
   "execution_count": 99,
   "id": "4c85ecb7",
   "metadata": {},
   "outputs": [],
   "source": [
    "@tool\n",
    "def add_tool(\n",
    "    a:Annotated[Union[int,float],Field(...,description=\"integer or float\")],\n",
    "    b:Annotated[Union[int,float],Field(...,description=\"integer or float\")])  -> float:\n",
    "    \"\"\"Adding two numbers i.e a and b\"\"\"\n",
    "    return a + b"
   ]
  },
  {
   "cell_type": "code",
   "execution_count": 100,
   "id": "42a3d453",
   "metadata": {},
   "outputs": [],
   "source": [
    "@tool\n",
    "def subtract_tool(\n",
    "    a:Annotated[Union[int,float],Field(...,description=\"integer or float\")],\n",
    "    b:Annotated[Union[int,float],Field(...,description=\"integer or float\")])  -> float:\n",
    "    \"\"\"Subtracting two numbers i.e a and b\"\"\"\n",
    "    return a - b"
   ]
  },
  {
   "cell_type": "code",
   "execution_count": 101,
   "id": "3138fb54",
   "metadata": {},
   "outputs": [],
   "source": [
    "@tool\n",
    "def multiple_tool(\n",
    "    a:Annotated[Union[int,float],Field(...,description=\"integer or float\")],\n",
    "    b:Annotated[Union[int,float],Field(...,description=\"integer or float\")])  -> float:\n",
    "    \"\"\"Multiplying two numbers i.e a and b\"\"\"\n",
    "    return a * b"
   ]
  },
  {
   "cell_type": "code",
   "execution_count": 102,
   "id": "52248374",
   "metadata": {},
   "outputs": [],
   "source": [
    "tools_list = [add_tool,subtract_tool,multiple_tool]\n",
    "llm = ChatGoogleGenerativeAI(\n",
    "    model=\"gemini-2.5-flash\",\n",
    "    google_api_key=os.getenv(\"GOOGLE_API_KEY\"),\n",
    "    max_tokens=500 \n",
    ")\n",
    "llm = llm.bind_tools(tools_list)"
   ]
  },
  {
   "cell_type": "code",
   "execution_count": 103,
   "id": "decfba8e",
   "metadata": {},
   "outputs": [],
   "source": [
    "def agent_node(state: AgentState) -> AgentState:\n",
    "    system_prompt = SystemMessage(content=\n",
    "        \"You are my AI assistant, please answer my query to the best of your ability.\"\n",
    "    )\n",
    "    response = llm.invoke([system_prompt]+state.messages)\n",
    "    return {\"messages\": [response]}"
   ]
  },
  {
   "cell_type": "code",
   "execution_count": 104,
   "id": "7746e79a",
   "metadata": {},
   "outputs": [],
   "source": [
    "def should_continue(state: AgentState):\n",
    "    messages = state.messages\n",
    "    last_message = messages[-1]\n",
    "    tool_calls = getattr(last_message, \"tool_calls\", [])\n",
    "    if not tool_calls:\n",
    "        return \"end\"\n",
    "    return \"continue\""
   ]
  },
  {
   "cell_type": "code",
   "execution_count": 105,
   "id": "aadc47fb",
   "metadata": {},
   "outputs": [],
   "source": [
    "graph = StateGraph(AgentState)\n",
    "\n",
    "graph.add_node(node=\"agent\",action=agent_node)\n",
    "graph.add_node(node=\"tools\",action=ToolNode(tools=tools_list))\n",
    "\n",
    "graph.set_entry_point(key=\"agent\")\n",
    "\n",
    "graph.add_conditional_edges(source=\"agent\",path=should_continue,\n",
    "                            path_map={\n",
    "                                \"continue\":\"tools\",\n",
    "                                \"end\":\"__end__\"\n",
    "                            })\n",
    "\n",
    "graph.add_edge(start_key=\"tools\",end_key=\"agent\")\n",
    "graph.set_finish_point(key=\"agent\")\n",
    "\n",
    "\n",
    "app = graph.compile()"
   ]
  },
  {
   "cell_type": "code",
   "execution_count": 120,
   "id": "23c3fa32",
   "metadata": {},
   "outputs": [],
   "source": [
    "inputs = {\"messages\":[HumanMessage(\n",
    "    content=\"\"\"Add 5 + 7 and then multiply the result by 6 and and lastly  subtract 8.\n",
    "                Also tell me a joke about langgrap framework.\"\"\")]}\n",
    "llm_response_stream = app.stream(inputs, stream_mode=\"values\")"
   ]
  },
  {
   "cell_type": "code",
   "execution_count": null,
   "id": "870fec94",
   "metadata": {},
   "outputs": [
    {
     "name": "stdout",
     "output_type": "stream",
     "text": [
      "================================\u001b[1m Human Message \u001b[0m=================================\n",
      "\n",
      "Add 5 + 3 and then multiply the result by 6 and and lastly  subtract 8.\n",
      "                Also tell me a joke about langgrap framework.\n",
      "==================================\u001b[1m Ai Message \u001b[0m==================================\n",
      "Tool Calls:\n",
      "  add_tool (28b4603a-a0f9-4f69-9de0-87a06d5842e3)\n",
      " Call ID: 28b4603a-a0f9-4f69-9de0-87a06d5842e3\n",
      "  Args:\n",
      "    a: 5.0\n",
      "    b: 3.0\n",
      "=================================\u001b[1m Tool Message \u001b[0m=================================\n",
      "Name: add_tool\n",
      "\n",
      "8.0\n",
      "==================================\u001b[1m Ai Message \u001b[0m==================================\n",
      "Tool Calls:\n",
      "  multiple_tool (deb16bca-6a1a-42a7-a5b2-5e3297ce6a91)\n",
      " Call ID: deb16bca-6a1a-42a7-a5b2-5e3297ce6a91\n",
      "  Args:\n",
      "    a: 8.0\n",
      "    b: 6.0\n",
      "=================================\u001b[1m Tool Message \u001b[0m=================================\n",
      "Name: multiple_tool\n",
      "\n",
      "48.0\n",
      "==================================\u001b[1m Ai Message \u001b[0m==================================\n",
      "Tool Calls:\n",
      "  subtract_tool (9326cb5f-2564-42dd-81f2-52d3afd92eca)\n",
      " Call ID: 9326cb5f-2564-42dd-81f2-52d3afd92eca\n",
      "  Args:\n",
      "    a: 48.0\n",
      "    b: 8.0\n",
      "=================================\u001b[1m Tool Message \u001b[0m=================================\n",
      "Name: subtract_tool\n",
      "\n",
      "40.0\n",
      "==================================\u001b[1m Ai Message \u001b[0m==================================\n",
      "\n",
      "The result of your calculation is 40.\n",
      "\n",
      "Why did the LangChain framework break up with the other frameworks?\n",
      "Because it felt they were all too \"rigid\" and it needed more \"flexibility\" to chain its own thoughts!\n"
     ]
    }
   ],
   "source": [
    "## custom function for display messages\n",
    "def print_stream(stream):\n",
    "    for s in stream:\n",
    "        message = s[\"messages\"][-1]\n",
    "        message.pretty_print()\n",
    "print_stream(llm_response_stream)"
   ]
  },
  {
   "cell_type": "code",
   "execution_count": 108,
   "id": "64453c9c",
   "metadata": {},
   "outputs": [
    {
     "data": {
      "text/plain": [
       "['The result of your calculations is 40.',\n",
       " '',\n",
       " 'Why did the LangChain framework break up with the other frameworks?',\n",
       " 'Because it felt like it was always doing all the heavy \"chaining\"!']"
      ]
     },
     "execution_count": 108,
     "metadata": {},
     "output_type": "execute_result"
    }
   ],
   "source": [
    "## print the only last message of the llm\n",
    "result = app.invoke(inputs)\n",
    "result[\"messages\"][-1].content.split(\"\\n\")"
   ]
  },
  {
   "cell_type": "code",
   "execution_count": 109,
   "id": "98e7919d",
   "metadata": {},
   "outputs": [
    {
     "data": {
      "image/png": "[encoded data removed]",
      "text/plain": [
       "<IPython.core.display.Image object>"
      ]
     },
     "metadata": {},
     "output_type": "display_data"
    }
   ],
   "source": [
    "from IPython.display import display,Image\n",
    "display(Image(app.get_graph().draw_mermaid_png()))"
   ]
  }
 ],
 "metadata": {
  "kernelspec": {
   "display_name": "Global2",
   "language": "python",
   "name": "python3"
  },
  "language_info": {
   "codemirror_mode": {
    "name": "ipython",
    "version": 3
   },
   "file_extension": ".py",
   "mimetype": "text/x-python",
   "name": "python",
   "nbconvert_exporter": "python",
   "pygments_lexer": "ipython3",
   "version": "3.12.5"
  }
 },
 "nbformat": 4,
 "nbformat_minor": 5
}
